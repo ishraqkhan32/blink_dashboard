{
 "cells": [
  {
   "cell_type": "code",
   "execution_count": 1,
   "metadata": {},
   "outputs": [],
   "source": [
    "from selenium import webdriver\n",
    "from selenium.webdriver.support.ui import WebDriverWait\n",
    "from selenium.webdriver.chrome.options import Options"
   ]
  },
  {
   "cell_type": "code",
   "execution_count": 2,
   "metadata": {},
   "outputs": [],
   "source": [
    "CHROME_PATH = \"/Users/ik/bin/chromedriver\""
   ]
  },
  {
   "cell_type": "code",
   "execution_count": 3,
   "metadata": {},
   "outputs": [],
   "source": [
    "baseURL = \"https://www.blinkfitness.com/locations/\"\n",
    "branch = \"jamaica\" #hard-coded for now\n",
    "URL = baseURL + branch"
   ]
  },
  {
   "cell_type": "code",
   "execution_count": 4,
   "metadata": {},
   "outputs": [],
   "source": [
    "# initialize web driver with eager page loading strategy\n",
    "chrome_options = Options()\n",
    "chrome_options.page_load_strategy = 'eager'\n",
    "driver = webdriver.Chrome(CHROME_PATH, options=chrome_options)\n",
    "driver.get(URL)"
   ]
  },
  {
   "cell_type": "code",
   "execution_count": 5,
   "metadata": {},
   "outputs": [],
   "source": [
    "# get branch information (location, phone number, and email) through class selection\n",
    "location_info = WebDriverWait(driver, timeout=15).until(lambda d: d.find_element_by_class_name('Core-address'))"
   ]
  },
  {
   "cell_type": "code",
   "execution_count": 6,
   "metadata": {},
   "outputs": [
    {
     "name": "stdout",
     "output_type": "stream",
     "text": [
      "{'latitude': '40.704465555892526', 'longitude': '-73.7966098925308', 'address': '163-02 Jamaica Avenue, Queens, NY 11432'}\n"
     ]
    }
   ],
   "source": [
    "info_dict = {}\n",
    "\n",
    "# parse coordinates\n",
    "coord_info = location_info.find_element_by_class_name('coordinates')\n",
    "_coords = coord_info.find_elements_by_tag_name('meta')\n",
    "\n",
    "for ele in _coords:\n",
    "    attr = ele.get_attribute('itemprop').strip()\n",
    "    content = ele.get_attribute('content').strip()\n",
    "    \n",
    "    info_dict[attr] = content\n",
    "    \n",
    "# parse location address\n",
    "address = location_info.find_element_by_class_name('c-address').text.strip()\n",
    "info_dict['address'] = address.replace('\\n',', ')\n",
    "\n",
    "print(info_dict)"
   ]
  },
  {
   "cell_type": "code",
   "execution_count": 7,
   "metadata": {},
   "outputs": [],
   "source": [
    "# get branch hours element by class name (not most reliable)\n",
    "hours_info = WebDriverWait(driver, timeout=15).until(lambda d: d.find_element_by_class_name('c-hours-details-wrapper'))"
   ]
  },
  {
   "cell_type": "code",
   "execution_count": 8,
   "metadata": {},
   "outputs": [
    {
     "name": "stdout",
     "output_type": "stream",
     "text": [
      "[{'day': 'TUESDAY', 'intervals': [{'end': 2100, 'start': 600}]}, {'day': 'WEDNESDAY', 'intervals': [{'end': 1900, 'start': 600}]}, {'day': 'THURSDAY', 'intervals': [{'end': 1300, 'start': 700}]}, {'day': 'FRIDAY', 'intervals': [{'end': 1900, 'start': 700}]}, {'day': 'SATURDAY', 'intervals': [{'end': 1600, 'start': 700}]}, {'day': 'SUNDAY', 'intervals': [{'end': 1600, 'start': 700}]}, {'day': 'MONDAY', 'intervals': [{'end': 2100, 'start': 600}]}]\n"
     ]
    }
   ],
   "source": [
    "# literal_evel safely evaluate an expression node or a string containing a Python expression\n",
    "from ast import literal_eval\n",
    "\n",
    "# days and hours are stored in dictionary stored in data-days attribute of HTML element\n",
    "hours_dict = literal_eval(hours_info.get_attribute('data-days'))\n",
    "print(hours_dict)"
   ]
  },
  {
   "cell_type": "code",
   "execution_count": null,
   "metadata": {},
   "outputs": [],
   "source": [
    "# used to convert day (string) to integer representation for efficient storage\n",
    "day_dict = {\n",
    "    'sunday': 0,\n",
    "    'monday': 1,\n",
    "    'tuesday': 2,\n",
    "    'wednesday': 3,\n",
    "    'thursday': 4,\n",
    "    'friday': 5,\n",
    "    'saturday': 6\n",
    "}\n",
    "\n",
    "# parse business hours\n",
    "for entry in hours_dict:\n",
    "    \n",
    "    day = day_dict[entry['day'].lower()]\n",
    "    \n",
    "    # TODO: store start_time string as time in sqlite\n",
    "    start_time = entry['intervals'][0]['start'] \n",
    "    end_time = entry['intervals'][0]['end'] \n",
    "    \n",
    "    print(day,start_time,end_time)"
   ]
  },
  {
   "cell_type": "code",
   "execution_count": null,
   "metadata": {},
   "outputs": [],
   "source": [
    "for spec in content:\n",
    "    print(\"-----\")\n",
    "    print(spec.text)\n",
    "    daysOfWeek = spec.find_element_by_xpath('//span[@itemprop=\"dayOfWeek\"]')\n",
    "    open_hrs = spec.find_element_by_xpath('//time[@itemprop=\"opens\"]')\n",
    "    close_hrs = spec.find_element_by_xpath('//time[@itemprop=\"closes\"]')\n",
    "    \n",
    "    print(daysOfWeek.text)\n",
    "    print(open_hrs.get_attribute('content'), close_hrs.get_attribute('content'))"
   ]
  },
  {
   "cell_type": "code",
   "execution_count": null,
   "metadata": {},
   "outputs": [],
   "source": []
  }
 ],
 "metadata": {
  "kernelspec": {
   "display_name": "Python 3",
   "language": "python",
   "name": "python3"
  },
  "language_info": {
   "codemirror_mode": {
    "name": "ipython",
    "version": 3
   },
   "file_extension": ".py",
   "mimetype": "text/x-python",
   "name": "python",
   "nbconvert_exporter": "python",
   "pygments_lexer": "ipython3",
   "version": "3.8.0"
  }
 },
 "nbformat": 4,
 "nbformat_minor": 4
}
