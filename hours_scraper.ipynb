{
 "cells": [
  {
   "cell_type": "code",
   "execution_count": 1,
   "metadata": {},
   "outputs": [],
   "source": [
    "from selenium import webdriver\n",
    "from selenium.webdriver.support.ui import WebDriverWait\n",
    "from selenium.webdriver.chrome.options import Options"
   ]
  },
  {
   "cell_type": "code",
   "execution_count": 3,
   "metadata": {},
   "outputs": [],
   "source": [
    "PATH = \"/Users/ishraqkhan/bin/chromedriver\""
   ]
  },
  {
   "cell_type": "code",
   "execution_count": 6,
   "metadata": {},
   "outputs": [],
   "source": [
    "baseURL = \"https://www.blinkfitness.com/locations/\"\n",
    "branch = \"jamaica\" #hard-coded for now\n",
    "URL = baseURL + branch"
   ]
  },
  {
   "cell_type": "code",
   "execution_count": 7,
   "metadata": {},
   "outputs": [],
   "source": [
    "# initialize web driver with eager page loading strategy\n",
    "options = Options()\n",
    "options.page_load_strategy = 'eager'\n",
    "driver = webdriver.Chrome(executable_path=PATH, options=options)\n",
    "driver.get(URL)"
   ]
  },
  {
   "cell_type": "code",
   "execution_count": 9,
   "metadata": {},
   "outputs": [],
   "source": [
    "# get branch hours element\n",
    "hours_info = WebDriverWait(driver, timeout=15).until(lambda d: d.find_element_by_tag_name('bw-club-information-hours'))"
   ]
  },
  {
   "cell_type": "code",
   "execution_count": 27,
   "metadata": {},
   "outputs": [
    {
     "name": "stdout",
     "output_type": "stream",
     "text": [
      "[<selenium.webdriver.remote.webelement.WebElement (session=\"a593b20c857d1a53fb6a0015539939f4\", element=\"22b38dbb-8f94-4361-83cc-e246dd89ac0a\")>, <selenium.webdriver.remote.webelement.WebElement (session=\"a593b20c857d1a53fb6a0015539939f4\", element=\"2647d716-5909-4648-a3d6-3d160ba92bc8\")>]\n"
     ]
    }
   ],
   "source": [
    "# each element corresponds to day of week + timing\n",
    "content = hours_info.find_elements_by_xpath('//li[@itemprop=\"openingHoursSpecification\"]')\n",
    "print(content)"
   ]
  },
  {
   "cell_type": "code",
   "execution_count": 28,
   "metadata": {},
   "outputs": [
    {
     "name": "stdout",
     "output_type": "stream",
     "text": [
      "-----\n",
      "Monday - Friday\n",
      "6:00 am - 9:00 pm\n",
      "Monday - Friday\n",
      "6:00 21:00\n",
      "-----\n",
      "Saturday - Sunday\n",
      "7:00 am - 4:00 pm\n",
      "Monday - Friday\n",
      "6:00 21:00\n"
     ]
    }
   ],
   "source": [
    "for spec in content:\n",
    "    print(\"-----\")\n",
    "    print(spec.text)\n",
    "    daysOfWeek = spec.find_element_by_xpath('//span[@itemprop=\"dayOfWeek\"]')\n",
    "    open_hrs = spec.find_element_by_xpath('//time[@itemprop=\"opens\"]')\n",
    "    close_hrs = spec.find_element_by_xpath('//time[@itemprop=\"closes\"]')\n",
    "    \n",
    "    print(daysOfWeek.text)\n",
    "    print(open_hrs.get_attribute('content'), close_hrs.get_attribute('content'))"
   ]
  },
  {
   "cell_type": "code",
   "execution_count": null,
   "metadata": {},
   "outputs": [],
   "source": []
  }
 ],
 "metadata": {
  "kernelspec": {
   "display_name": "Python 3",
   "language": "python",
   "name": "python3"
  },
  "language_info": {
   "codemirror_mode": {
    "name": "ipython",
    "version": 3
   },
   "file_extension": ".py",
   "mimetype": "text/x-python",
   "name": "python",
   "nbconvert_exporter": "python",
   "pygments_lexer": "ipython3",
   "version": "3.8.0"
  }
 },
 "nbformat": 4,
 "nbformat_minor": 4
}
