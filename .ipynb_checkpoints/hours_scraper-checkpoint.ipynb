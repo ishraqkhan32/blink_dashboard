{
 "cells": [
  {
   "cell_type": "code",
   "execution_count": 25,
   "metadata": {},
   "outputs": [],
   "source": [
    "from selenium import webdriver\n",
    "from selenium.webdriver.support.ui import WebDriverWait\n",
    "from selenium.webdriver.chrome.options import Options"
   ]
  },
  {
   "cell_type": "code",
   "execution_count": 26,
   "metadata": {},
   "outputs": [],
   "source": [
    "CHROME_PATH = \"/Users/ik/bin/chromedriver\""
   ]
  },
  {
   "cell_type": "code",
   "execution_count": 27,
   "metadata": {},
   "outputs": [],
   "source": [
    "baseURL = \"https://www.blinkfitness.com/capacity/\"\n",
    "branch = \"jamaica\" #hard-coded for now\n",
    "URL = baseURL + branch"
   ]
  },
  {
   "cell_type": "code",
   "execution_count": 31,
   "metadata": {},
   "outputs": [],
   "source": [
    "# initialize web driver with eager page loading strategy\n",
    "chrome_options = Options()\n",
    "chrome_options.page_load_strategy = 'eager'\n",
    "driver = webdriver.Chrome(CHROME_PATH, options=chrome_options)\n",
    "driver.get(URL)"
   ]
  },
  {
   "cell_type": "code",
   "execution_count": null,
   "metadata": {},
   "outputs": [],
   "source": [
    "# get branch hours element\n",
    "hours_info = WebDriverWait(driver, timeout=15).until(lambda d: d.find_element_by_tag_name('gym-hours'))"
   ]
  },
  {
   "cell_type": "code",
   "execution_count": null,
   "metadata": {},
   "outputs": [],
   "source": [
    "\n",
    "print(content)"
   ]
  },
  {
   "cell_type": "code",
   "execution_count": null,
   "metadata": {},
   "outputs": [],
   "source": [
    "for spec in content:\n",
    "    print(\"-----\")\n",
    "    print(spec.text)\n",
    "    daysOfWeek = spec.find_element_by_xpath('//span[@itemprop=\"dayOfWeek\"]')\n",
    "    open_hrs = spec.find_element_by_xpath('//time[@itemprop=\"opens\"]')\n",
    "    close_hrs = spec.find_element_by_xpath('//time[@itemprop=\"closes\"]')\n",
    "    \n",
    "    print(daysOfWeek.text)\n",
    "    print(open_hrs.get_attribute('content'), close_hrs.get_attribute('content'))"
   ]
  },
  {
   "cell_type": "code",
   "execution_count": null,
   "metadata": {},
   "outputs": [],
   "source": []
  }
 ],
 "metadata": {
  "kernelspec": {
   "display_name": "Python 3",
   "language": "python",
   "name": "python3"
  },
  "language_info": {
   "codemirror_mode": {
    "name": "ipython",
    "version": 3
   },
   "file_extension": ".py",
   "mimetype": "text/x-python",
   "name": "python",
   "nbconvert_exporter": "python",
   "pygments_lexer": "ipython3",
   "version": "3.8.0"
  }
 },
 "nbformat": 4,
 "nbformat_minor": 4
}
