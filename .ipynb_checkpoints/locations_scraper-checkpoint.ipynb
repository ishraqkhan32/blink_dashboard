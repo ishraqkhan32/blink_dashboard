{
 "cells": [
  {
   "cell_type": "code",
   "execution_count": 1,
   "metadata": {},
   "outputs": [],
   "source": [
    "from selenium import webdriver\n",
    "from selenium.webdriver.support.ui import WebDriverWait\n",
    "from selenium.webdriver.chrome.options import Options"
   ]
  },
  {
   "cell_type": "code",
   "execution_count": 2,
   "metadata": {},
   "outputs": [],
   "source": [
    "URL = 'https://locations.blinkfitness.com/index.html'\n",
    "CHROME_PATH = \"/Users/ik/bin/chromedriver\""
   ]
  },
  {
   "cell_type": "code",
   "execution_count": 3,
   "metadata": {},
   "outputs": [],
   "source": [
    "# initialize web driver with eager page loading strategy\n",
    "chrome_options = Options()\n",
    "chrome_options.page_load_strategy = 'eager'\n",
    "driver = webdriver.Chrome(CHROME_PATH, options=chrome_options)\n",
    "driver.get(URL)"
   ]
  },
  {
   "cell_type": "code",
   "execution_count": 4,
   "metadata": {},
   "outputs": [],
   "source": [
    "# get links to each region home page\n",
    "links = WebDriverWait(driver, timeout=30).until(lambda d: d.find_elements_by_tag_name('a'))"
   ]
  },
  {
   "cell_type": "code",
   "execution_count": 5,
   "metadata": {},
   "outputs": [],
   "source": [
    "location_urls = [] # will contain final urls\n",
    "skip = ['index','search']\n",
    "\n",
    "for link in links:\n",
    "    # get all links on webpage\n",
    "    url_string = link.get_attribute('href')\n",
    "    \n",
    "    # check for branch state sublinks only \n",
    "    if url_string.startswith('https://locations.blinkfitness.com/'):\n",
    "        if not any(x in url_string for x in skip):\n",
    "            branch_state = link.text \n",
    "            location_urls.append(url_string)\n",
    "\n",
    "# will handle special case separately\n",
    "location_urls.remove('https://locations.blinkfitness.com/va/virginia-beach/4239-holland-road')"
   ]
  },
  {
   "cell_type": "code",
   "execution_count": 9,
   "metadata": {},
   "outputs": [
    {
     "name": "stdout",
     "output_type": "stream",
     "text": [
      "['https://locations.blinkfitness.com/ca', 'https://locations.blinkfitness.com/fl', 'https://locations.blinkfitness.com/il', 'https://locations.blinkfitness.com/ma', 'https://locations.blinkfitness.com/mi', 'https://locations.blinkfitness.com/nj', 'https://locations.blinkfitness.com/ny', 'https://locations.blinkfitness.com/pa', 'https://locations.blinkfitness.com/tx', 'https://locations.blinkfitness.com/va/virginia-beach/4239-holland-road']\n",
      "['https://locations.blinkfitness.com/ca', 'https://locations.blinkfitness.com/fl', 'https://locations.blinkfitness.com/il', 'https://locations.blinkfitness.com/ma', 'https://locations.blinkfitness.com/mi', 'https://locations.blinkfitness.com/nj', 'https://locations.blinkfitness.com/ny', 'https://locations.blinkfitness.com/pa', 'https://locations.blinkfitness.com/tx']\n"
     ]
    }
   ],
   "source": [
    "print(location_urls)"
   ]
  },
  {
   "cell_type": "code",
   "execution_count": 7,
   "metadata": {},
   "outputs": [
    {
     "ename": "TimeoutException",
     "evalue": "Message: \n",
     "output_type": "error",
     "traceback": [
      "\u001b[0;31m---------------------------------------------------------------------------\u001b[0m",
      "\u001b[0;31mTimeoutException\u001b[0m                          Traceback (most recent call last)",
      "\u001b[0;32m<ipython-input-7-a31cec26eec7>\u001b[0m in \u001b[0;36m<module>\u001b[0;34m\u001b[0m\n\u001b[1;32m      5\u001b[0m \u001b[0;34m\u001b[0m\u001b[0m\n\u001b[1;32m      6\u001b[0m     \u001b[0;31m# parse city containers\u001b[0m\u001b[0;34m\u001b[0m\u001b[0;34m\u001b[0m\u001b[0;34m\u001b[0m\u001b[0m\n\u001b[0;32m----> 7\u001b[0;31m     \u001b[0mcities\u001b[0m \u001b[0;34m=\u001b[0m \u001b[0mWebDriverWait\u001b[0m\u001b[0;34m(\u001b[0m\u001b[0mdriver\u001b[0m\u001b[0;34m,\u001b[0m \u001b[0mtimeout\u001b[0m\u001b[0;34m=\u001b[0m\u001b[0;36m30\u001b[0m\u001b[0;34m)\u001b[0m\u001b[0;34m.\u001b[0m\u001b[0muntil\u001b[0m\u001b[0;34m(\u001b[0m\u001b[0;32mlambda\u001b[0m \u001b[0md\u001b[0m\u001b[0;34m:\u001b[0m \u001b[0md\u001b[0m\u001b[0;34m.\u001b[0m\u001b[0mfind_elements_by_class_name\u001b[0m\u001b[0;34m(\u001b[0m\u001b[0;34m'Directory-cityContainer'\u001b[0m\u001b[0;34m)\u001b[0m\u001b[0;34m)\u001b[0m\u001b[0;34m\u001b[0m\u001b[0;34m\u001b[0m\u001b[0m\n\u001b[0m\u001b[1;32m      8\u001b[0m \u001b[0;34m\u001b[0m\u001b[0m\n\u001b[1;32m      9\u001b[0m     \u001b[0;32mfor\u001b[0m \u001b[0mcity\u001b[0m \u001b[0;32min\u001b[0m \u001b[0mcities\u001b[0m\u001b[0;34m:\u001b[0m\u001b[0;34m\u001b[0m\u001b[0;34m\u001b[0m\u001b[0m\n",
      "\u001b[0;32m~/.virtualenvs/blink_dashboard/lib/python3.8/site-packages/selenium/webdriver/support/wait.py\u001b[0m in \u001b[0;36muntil\u001b[0;34m(self, method, message)\u001b[0m\n\u001b[1;32m     78\u001b[0m             \u001b[0;32mif\u001b[0m \u001b[0mtime\u001b[0m\u001b[0;34m.\u001b[0m\u001b[0mtime\u001b[0m\u001b[0;34m(\u001b[0m\u001b[0;34m)\u001b[0m \u001b[0;34m>\u001b[0m \u001b[0mend_time\u001b[0m\u001b[0;34m:\u001b[0m\u001b[0;34m\u001b[0m\u001b[0;34m\u001b[0m\u001b[0m\n\u001b[1;32m     79\u001b[0m                 \u001b[0;32mbreak\u001b[0m\u001b[0;34m\u001b[0m\u001b[0;34m\u001b[0m\u001b[0m\n\u001b[0;32m---> 80\u001b[0;31m         \u001b[0;32mraise\u001b[0m \u001b[0mTimeoutException\u001b[0m\u001b[0;34m(\u001b[0m\u001b[0mmessage\u001b[0m\u001b[0;34m,\u001b[0m \u001b[0mscreen\u001b[0m\u001b[0;34m,\u001b[0m \u001b[0mstacktrace\u001b[0m\u001b[0;34m)\u001b[0m\u001b[0;34m\u001b[0m\u001b[0;34m\u001b[0m\u001b[0m\n\u001b[0m\u001b[1;32m     81\u001b[0m \u001b[0;34m\u001b[0m\u001b[0m\n\u001b[1;32m     82\u001b[0m     \u001b[0;32mdef\u001b[0m \u001b[0muntil_not\u001b[0m\u001b[0;34m(\u001b[0m\u001b[0mself\u001b[0m\u001b[0;34m,\u001b[0m \u001b[0mmethod\u001b[0m\u001b[0;34m,\u001b[0m \u001b[0mmessage\u001b[0m\u001b[0;34m=\u001b[0m\u001b[0;34m''\u001b[0m\u001b[0;34m)\u001b[0m\u001b[0;34m:\u001b[0m\u001b[0;34m\u001b[0m\u001b[0;34m\u001b[0m\u001b[0m\n",
      "\u001b[0;31mTimeoutException\u001b[0m: Message: \n"
     ]
    }
   ],
   "source": [
    "location_info = []\n",
    "\n",
    "for region_url in location_urls:\n",
    "    driver.get(region_url)\n",
    "    \n",
    "    # parse city containers\n",
    "    cities = WebDriverWait(driver, timeout=30).until(lambda d: d.find_elements_by_class_name('Directory-cityContainer'))  \n",
    "    \n",
    "    for city in cities:\n",
    "        branch_city = city.find_element_by_class_name('Directory-cityName').text\n",
    "        \n",
    "        # get list of all branches in city container\n",
    "        branches = city.find_elements_by_class_name('Directory-listTeaser')\n",
    "        \n",
    "        # parse each branch for title, address & phone number\n",
    "        for branch in branches:\n",
    "            temp_branch = {}\n",
    "            temp_branch['branch_city'] = branch_city\n",
    "            temp_branch['branch_title'] = branch.find_element_by_class_name('Teaser-title').text\n",
    "            temp_branch['branch_address'] = branch.find_element_by_class_name('Teaser-address').text\n",
    "            temp_branch['branch_phone'] = branch.find_element_by_class_name('Teaser-phone').text\n",
    "            \n",
    "            location_info.append(temp_branch)\n",
    "            \n",
    "    #driver.close()"
   ]
  },
  {
   "cell_type": "code",
   "execution_count": null,
   "metadata": {},
   "outputs": [],
   "source": [
    "for i in location_info:\n",
    "    print(i)"
   ]
  }
 ],
 "metadata": {
  "kernelspec": {
   "display_name": "Python 3",
   "language": "python",
   "name": "python3"
  },
  "language_info": {
   "codemirror_mode": {
    "name": "ipython",
    "version": 3
   },
   "file_extension": ".py",
   "mimetype": "text/x-python",
   "name": "python",
   "nbconvert_exporter": "python",
   "pygments_lexer": "ipython3",
   "version": "3.8.0"
  }
 },
 "nbformat": 4,
 "nbformat_minor": 4
}
