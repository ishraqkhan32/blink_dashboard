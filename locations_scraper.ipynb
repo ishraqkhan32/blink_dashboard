{
 "cells": [
  {
   "cell_type": "code",
   "execution_count": 1,
   "metadata": {},
   "outputs": [],
   "source": [
    "from selenium import webdriver\n",
    "from selenium.webdriver.support.ui import WebDriverWait\n",
    "from selenium.webdriver.chrome.options import Options"
   ]
  },
  {
   "cell_type": "code",
   "execution_count": 2,
   "metadata": {},
   "outputs": [],
   "source": [
    "CHROME_PATH = \"/Users/ik/bin/chromedriver\""
   ]
  },
  {
   "cell_type": "code",
   "execution_count": 3,
   "metadata": {},
   "outputs": [],
   "source": [
    "# initialize web driver with eager page loading strategy\n",
    "chrome_options = Options()\n",
    "chrome_options.page_load_strategy = 'eager'\n",
    "driver = webdriver.Chrome(CHROME_PATH, options=chrome_options)"
   ]
  },
  {
   "cell_type": "markdown",
   "metadata": {},
   "source": [
    "## Crawl main index site for list of links to each state/regions branch directory"
   ]
  },
  {
   "cell_type": "code",
   "execution_count": null,
   "metadata": {},
   "outputs": [],
   "source": [
    "# get links to each region home page\n",
    "driver.get('https://locations.blinkfitness.com/index.html')\n",
    "links = WebDriverWait(driver, timeout=30).until(lambda d: d.find_elements_by_tag_name('a'))\n",
    "\n",
    "location_urls = [] # will contain final urls\n",
    "skip = ['index','search']\n",
    "\n",
    "for link in links:\n",
    "    # get all links on webpage\n",
    "    url_string = link.get_attribute('href')\n",
    "    \n",
    "    # check for branch state sublinks only \n",
    "    if url_string.startswith('https://locations.blinkfitness.com/'):\n",
    "        if not any(x in url_string for x in skip):\n",
    "            branch_state = link.text \n",
    "            location_urls.append(url_string)\n",
    "\n",
    "# will handle special case separately\n",
    "location_urls.remove('https://locations.blinkfitness.com/va/virginia-beach/4239-holland-road')"
   ]
  },
  {
   "cell_type": "markdown",
   "metadata": {},
   "source": [
    "## Parse individual branches from each region directory page"
   ]
  },
  {
   "cell_type": "code",
   "execution_count": null,
   "metadata": {},
   "outputs": [],
   "source": [
    "location_info = []\n",
    "\n",
    "for region_url in location_urls:\n",
    "    driver.get(region_url)\n",
    "    \n",
    "    # parse city containers\n",
    "    cities = WebDriverWait(driver, timeout=30).until(lambda d: d.find_elements_by_class_name('Directory-cityContainer'))  \n",
    "    \n",
    "    for city in cities:\n",
    "        branch_city = city.find_element_by_class_name('Directory-cityName').text\n",
    "        \n",
    "        # get list of all branches in city container\n",
    "        branches = city.find_elements_by_class_name('Directory-listTeaser')\n",
    "        \n",
    "        # parse each branch for title, address & phone number\n",
    "        for branch in branches:\n",
    "            temp_branch = {}\n",
    "            # temp_branch['branch_state'] = \n",
    "            temp_branch['branch_city'] = branch_city\n",
    "            temp_branch['branch_title'] = branch.find_element_by_class_name('Teaser-title').text\n",
    "            temp_branch['branch_address'] = branch.find_element_by_class_name('Teaser-address').text\n",
    "            temp_branch['branch_phone'] = branch.find_element_by_class_name('Teaser-phone').text\n",
    "            \n",
    "            location_info.append(temp_branch)"
   ]
  },
  {
   "cell_type": "markdown",
   "metadata": {},
   "source": [
    "## Handle parsing of special case: Virginia Beach branch\n",
    "Virginia only has 1 location right now so it doesn't have a separate directory page like all other states"
   ]
  },
  {
   "cell_type": "code",
   "execution_count": null,
   "metadata": {},
   "outputs": [],
   "source": [
    "temp = {}\n",
    "va_url = 'https://locations.blinkfitness.com/va/virginia-beach/4239-holland-road'\n",
    "\n",
    "driver.get(va_url)\n",
    "va_info = WebDriverWait(driver, timeout=30).until(lambda d: d.find_element_by_class_name('Core'))  \n",
    "\n",
    "temp['branch_state'] = 'Virginia'\n",
    "temp['branch_city'] = 'Virginia Beach'\n",
    "temp['branch_title'] = va_info.find_element_by_class_name('LocationName-geo').text\n",
    "temp['branch_phone'] = va_info.find_element_by_id('phone-main').text\n",
    "temp['branch_address'] = va_info.find_element_by_class_name('c-address').text\n",
    "\n",
    "location_info.append(temp_info)"
   ]
  },
  {
   "cell_type": "code",
   "execution_count": null,
   "metadata": {},
   "outputs": [],
   "source": [
    "location_info"
   ]
  },
  {
   "cell_type": "code",
   "execution_count": null,
   "metadata": {},
   "outputs": [],
   "source": [
    "for i in location_info:\n",
    "    print(i)"
   ]
  }
 ],
 "metadata": {
  "kernelspec": {
   "display_name": "Python 3",
   "language": "python",
   "name": "python3"
  },
  "language_info": {
   "codemirror_mode": {
    "name": "ipython",
    "version": 3
   },
   "file_extension": ".py",
   "mimetype": "text/x-python",
   "name": "python",
   "nbconvert_exporter": "python",
   "pygments_lexer": "ipython3",
   "version": "3.8.0"
  }
 },
 "nbformat": 4,
 "nbformat_minor": 4
}
