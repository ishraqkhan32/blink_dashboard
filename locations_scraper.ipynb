{
 "cells": [
  {
   "cell_type": "code",
   "execution_count": 1,
   "metadata": {},
   "outputs": [],
   "source": [
    "from selenium import webdriver\n",
    "from selenium.webdriver.support.ui import WebDriverWait\n",
    "from selenium.webdriver.chrome.options import Options"
   ]
  },
  {
   "cell_type": "code",
   "execution_count": 2,
   "metadata": {},
   "outputs": [],
   "source": [
    "URL = 'https://www.blinkfitness.com/locations/'\n",
    "PATH = \"/Users/ishraqkhan/bin/chromedriver\""
   ]
  },
  {
   "cell_type": "code",
   "execution_count": 3,
   "metadata": {},
   "outputs": [],
   "source": [
    "# initialize web driver with eager page loading strategy\n",
    "options = Options()\n",
    "options.page_load_strategy = 'eager'\n",
    "driver = webdriver.Chrome(executable_path=PATH, options=options)\n",
    "driver.get(URL)"
   ]
  },
  {
   "cell_type": "code",
   "execution_count": 4,
   "metadata": {},
   "outputs": [],
   "source": [
    "# get all Areas web element\n",
    "element = WebDriverWait(driver, timeout=15).until(lambda d: d.find_element_by_xpath('//*[@id=\"layout-first-page\"]/div/div/bw-locations/bw-location-list[2]/div'))"
   ]
  },
  {
   "cell_type": "code",
   "execution_count": 5,
   "metadata": {},
   "outputs": [
    {
     "name": "stdout",
     "output_type": "stream",
     "text": [
      "17\n"
     ]
    }
   ],
   "source": [
    "areas = element.find_elements_by_class_name('area')\n",
    "print(len(areas))"
   ]
  },
  {
   "cell_type": "code",
   "execution_count": 6,
   "metadata": {},
   "outputs": [],
   "source": [
    "gyms = []\n",
    "for area in areas:\n",
    "    # find area location\n",
    "    location = area.find_element_by_class_name('area__header').text\n",
    "    \n",
    "    # list of facilities per area\n",
    "    facilities = area.find_elements_by_class_name('area__item')\n",
    "    for facility in facilities:      \n",
    "        branch = facility.find_element_by_class_name('facility__header').text # facility name\n",
    "        \n",
    "        # save gym information as dictionary\n",
    "        if branch != '':\n",
    "            gym = {} \n",
    "            gym['area'] = location \n",
    "            gym['branch'] = branch # \n",
    "            gym['status'] = facility.find_element_by_class_name('facility__indicator').text # open, closed, etc\n",
    "            gym['address'] = facility.find_element_by_class_name('facility__address').text # facility address\n",
    "            gyms.append(gym) "
   ]
  },
  {
   "cell_type": "code",
   "execution_count": 7,
   "metadata": {},
   "outputs": [
    {
     "name": "stdout",
     "output_type": "stream",
     "text": [
      "{'area': 'BRONX', 'branch': 'Blink Bedford Park', 'status': 'NOW OPEN', 'address': '3000 Jerome Avenue\\nBronx, NY 10468\\n718.362.8080'}\n",
      "{'area': 'BRONX', 'branch': 'Blink Claremont', 'status': 'NOW OPEN', 'address': '1421 Webster Ave\\nBronx, NY 10456\\n929.526.4230'}\n",
      "{'area': 'BRONX', 'branch': 'Blink Concourse Village', 'status': 'NOW OPEN', 'address': '820 Concourse Village West\\nBronx, NY 10451\\n718.704.1600'}\n",
      "{'area': 'BRONX', 'branch': 'Blink East Tremont', 'status': 'NOW OPEN', 'address': '645 E. Tremont Avenue\\nBronx, NY 10457\\n917.719.8810'}\n",
      "{'area': 'BRONX', 'branch': 'Blink Fordham', 'status': 'NOW OPEN', 'address': '2374 Grand Concourse\\nBronx, NY 10458\\n646.237.9100'}\n",
      "{'area': 'BRONX', 'branch': 'Blink Gun Hill', 'status': 'NOW OPEN', 'address': '3580 White Plains Rd\\nBronx, NY 10467\\n347.482.2825'}\n",
      "{'area': 'BRONX', 'branch': 'Blink Hunts Point', 'status': 'NOW OPEN', 'address': '932 Southern Boulevard\\nBronx, NY 10459\\n347.532.7702'}\n",
      "{'area': 'BRONX', 'branch': 'Blink In The Hub', 'status': 'NOW OPEN', 'address': '570 Melrose Avenue\\nBronx, NY 10455\\n347.338.6459'}\n",
      "{'area': 'BRONX', 'branch': 'Blink Mt. Eden', 'status': 'NOW OPEN', 'address': '1490 Macombs Road\\nBronx, NY 10452\\n718.304.1207'}\n",
      "{'area': 'BRONX', 'branch': 'Blink Parkchester', 'status': 'NOW OPEN', 'address': '1380 Metropolitan Avenue\\nBronx, NY 10462\\n347.640.5111'}\n",
      "{'area': 'BRONX', 'branch': 'Blink Riverdale', 'status': 'NOW OPEN', 'address': '5520 Broadway\\nBronx, NY 10463\\n347.532.7700'}\n",
      "{'area': 'BRONX', 'branch': \"Blink St Ann's\", 'status': 'NOW OPEN', 'address': '744 St Anns Avenue\\nBronx, NY 10455\\n917.688.3030'}\n",
      "{'area': 'BRONX', 'branch': 'Blink West Fordham', 'status': 'COMING SOON', 'address': '1 W Fordham Rd\\nBronx, NY 10468'}\n",
      "{'area': 'BROOKLYN', 'branch': 'Blink Bay Ridge', 'status': 'COMING SOON', 'address': '437 88th Street\\nBrooklyn, NY 11209'}\n",
      "{'area': 'BROOKLYN', 'branch': 'Blink Bed-Stuy', 'status': 'NOW OPEN', 'address': '1413 Fulton Street\\nBrooklyn, NY 11216\\n347.991.8707'}\n",
      "{'area': 'BROOKLYN', 'branch': 'Blink Bensonhurst', 'status': 'COMING SOON', 'address': '6502 18th Ave\\nBrooklyn, NY 11204'}\n",
      "{'area': 'BROOKLYN', 'branch': 'Blink Boerum Hill', 'status': 'NOW OPEN', 'address': '252 Atlantic Avenue\\nBrooklyn, NY 11201\\n347.991.8701'}\n",
      "{'area': 'BROOKLYN', 'branch': 'Blink Brownsville', 'status': 'NOW OPEN', 'address': '81-83 East 98th Street\\nBrooklyn, NY 11212\\n718.233.6720'}\n",
      "{'area': 'BROOKLYN', 'branch': 'Blink Bushwick', 'status': 'NOW OPEN', 'address': '399 Knickerbocker Avenue\\nBrooklyn, NY 11237\\n347.991.8706'}\n",
      "{'area': 'BROOKLYN', 'branch': 'Blink Canarsie', 'status': 'NOW OPEN', 'address': '9029 Flatlands Avenue\\nBrooklyn, NY 11236\\n718.581.5901'}\n",
      "{'area': 'BROOKLYN', 'branch': 'Blink Clinton Hill', 'status': 'NOW OPEN', 'address': '1134 Fulton St.\\nBrooklyn, NY 11216\\n929.480.9166'}\n",
      "{'area': 'BROOKLYN', 'branch': 'Blink Coney Island', 'status': 'NOW OPEN', 'address': '2857 W. 8th Street\\nBrooklyn, NY 11224\\n929.477.8801'}\n",
      "{'area': 'BROOKLYN', 'branch': 'Blink Crown Heights', 'status': 'NOW OPEN', 'address': '250 Utica Avenue\\nBrooklyn, NY 11213\\n718.844.5335'}\n",
      "{'area': 'BROOKLYN', 'branch': 'Blink Cypress Hills', 'status': 'COMING SOON', 'address': '2870 Fulton Street\\nBrooklyn, NY 11207'}\n",
      "{'area': 'BROOKLYN', 'branch': 'Blink Flatbush', 'status': 'NOW OPEN', 'address': '833 Flatbush Avenue\\nBrooklyn, NY 11237\\n718.704.1700'}\n",
      "{'area': 'BROOKLYN', 'branch': 'Blink Gates', 'status': 'NOW OPEN', 'address': '1002 Gates Avenue\\nBrooklyn, NY 11221\\n718.304.1204'}\n",
      "{'area': 'BROOKLYN', 'branch': 'Blink Junction', 'status': 'NOW OPEN', 'address': '2166 Nostrand Avenue\\nBrooklyn, NY 11210\\n347.943.6700'}\n",
      "{'area': 'BROOKLYN', 'branch': 'Blink Park Slope', 'status': 'NOW OPEN', 'address': '227 Fourth Avenue\\nBrooklyn, NY 11215\\n718.924.2299'}\n",
      "{'area': 'BROOKLYN', 'branch': 'Blink Sheepshead Bay', 'status': 'NOW OPEN', 'address': '3779 Nostrand Avenue\\nBrooklyn, NY 11235\\n646.795.2960'}\n",
      "{'area': 'BROOKLYN', 'branch': 'Blink Sunset Park', 'status': 'NOW OPEN', 'address': '5109 Fourth Avenue\\nBrooklyn, NY 11220\\n347.775.2635'}\n",
      "{'area': 'BROOKLYN', 'branch': 'Blink Williamsburg', 'status': 'NOW OPEN', 'address': '287 Broadway\\nBrooklyn, NY 11211\\n718.971.1592'}\n",
      "{'area': 'MANHATTAN', 'branch': 'Blink 116th', 'status': 'NOW OPEN', 'address': '27 W. 116th Street\\nNew York, NY 10026\\n646.561.5454'}\n",
      "{'area': 'MANHATTAN', 'branch': 'Blink 125th', 'status': 'NOW OPEN', 'address': '301 W. 125th Street\\nNew York, NY 10027\\n646.253.9700'}\n",
      "{'area': 'MANHATTAN', 'branch': 'Blink 54th', 'status': 'NOW OPEN', 'address': '240 E. 54th St\\nNew York, NY 10022\\n646.561.5460'}\n",
      "{'area': 'MANHATTAN', 'branch': 'Blink Bryant Park', 'status': 'NOW OPEN', 'address': '5 Bryant Park\\nNew York, NY 10018\\n646.795.2681'}\n",
      "{'area': 'MANHATTAN', 'branch': 'Blink Chelsea', 'status': 'NOW OPEN', 'address': '308 Eighth Avenue\\nNew York, NY 10001\\n646.560.4010'}\n",
      "{'area': 'MANHATTAN', 'branch': 'Blink East Village', 'status': 'NOW OPEN', 'address': '98 Avenue A\\nNew York, NY 10009\\n212.202.3300'}\n",
      "{'area': 'MANHATTAN', 'branch': 'Blink FiDi', 'status': 'NOW OPEN', 'address': '111 Nassau Street\\nNew York, NY 10038\\n646.561.5459'}\n",
      "{'area': 'MANHATTAN', 'branch': 'Blink Grand Central', 'status': 'NOW OPEN', 'address': '125 Park Avenue\\nNew York, NY 10017\\n646.561.5470'}\n",
      "{'area': 'MANHATTAN', 'branch': 'Blink Murray Hill', 'status': 'NOW OPEN', 'address': '600 Third Avenue (at 40th Street)\\nNew York, NY 10016\\n646.561.5400'}\n",
      "{'area': 'MANHATTAN', 'branch': 'Blink Noho', 'status': 'NOW OPEN', 'address': '16 E. 4th Street\\nNew York, NY 10012\\n212.245.6008'}\n",
      "{'area': 'MANHATTAN', 'branch': 'Blink Penn Station', 'status': 'NOW OPEN', 'address': '127 W. 30th Street\\nNew York, NY 10001\\n646.795.2795'}\n",
      "{'area': 'MANHATTAN', 'branch': 'Blink Washington Heights', 'status': 'NOW OPEN', 'address': '4202 Broadway\\nNew York, NY 10033\\n347.338.6465'}\n",
      "{'area': 'QUEENS', 'branch': 'Blink Astoria', 'status': 'NOW OPEN', 'address': '32-27 Steinway Street\\nAstoria, NY 11103\\n718.880.3616'}\n",
      "{'area': 'QUEENS', 'branch': 'Blink Corona', 'status': 'NOW OPEN', 'address': '108-14 Roosevelt Avenue\\nQueens, NY 11368\\n917.962.8829'}\n",
      "{'area': 'QUEENS', 'branch': 'Blink Jackson Heights', 'status': 'NOW OPEN', 'address': '78-14 Roosevelt Avenue\\nJackson Heights, NY 11372\\n646.517.6365'}\n",
      "{'area': 'QUEENS', 'branch': 'Blink Jamaica', 'status': 'NOW OPEN', 'address': '163-02 Jamaica Avenue\\nQueens, NY 11432\\n718.521.4331'}\n",
      "{'area': 'QUEENS', 'branch': 'Blink Ozone Park', 'status': 'NOW OPEN', 'address': '102-16 Liberty Avenue\\nQueens, NY 11416\\n718.752.1590'}\n",
      "{'area': 'QUEENS', 'branch': 'Blink Queens Village', 'status': 'NOW OPEN', 'address': '220-05 Hillside Avenue\\nQueens, NY 11427\\n917.970.3011'}\n",
      "{'area': 'QUEENS', 'branch': 'Blink Ridgewood', 'status': 'NOW OPEN', 'address': '55-27 Myrtle Avenue\\nRidgewood, NY 11385\\n718.701.6195'}\n",
      "{'area': 'QUEENS', 'branch': 'Blink Springfield Gardens', 'status': 'NOW OPEN', 'address': '130-20 Farmers Boulevard\\nQueens, NY 11423\\n929.519.7057'}\n",
      "{'area': 'QUEENS', 'branch': 'Blink Woodside', 'status': 'NOW OPEN', 'address': '56-02 Roosevelt Avenue\\nQueens, NY 11377\\n917.651.0278'}\n",
      "{'area': 'LONG ISLAND', 'branch': 'Blink Baldwin', 'status': 'NOW OPEN', 'address': '1789 Grand Avenue\\nBaldwin, NY 11510\\n516.453.6726'}\n",
      "{'area': 'LONG ISLAND', 'branch': 'Blink Brentwood', 'status': 'NOW OPEN', 'address': '480 Suffolk Avenue\\nBrentwood, NY 11717\\n631.352.2600'}\n",
      "{'area': 'LONG ISLAND', 'branch': 'Blink Farmingdale', 'status': 'NOW OPEN', 'address': '450 Main Street\\nFarmingdale, NY 11735\\n516.531.6614'}\n",
      "{'area': 'LONG ISLAND', 'branch': 'Blink Hicksville', 'status': 'NOW OPEN', 'address': '358 N. Broadway Mall\\nHicksville, NY 11801\\n516.595.8431'}\n",
      "{'area': 'LONG ISLAND', 'branch': 'Blink Islandia', 'status': 'NOW OPEN', 'address': '1790 Veterans Memorial Highway\\nIslandia, NY 11749\\n631.784.4333'}\n",
      "{'area': 'LONG ISLAND', 'branch': 'Blink Lindenhurst', 'status': 'NOW OPEN', 'address': '600 North Wellwood Avenue\\nLindenhurst, NY 11757\\n631.429.1030'}\n",
      "{'area': 'LONG ISLAND', 'branch': 'Blink Melville', 'status': 'NOW OPEN', 'address': '121 Broadhollow Road\\nMelville, NY 11747\\n516.962.5111'}\n",
      "{'area': 'LONG ISLAND', 'branch': 'Blink Valley Stream', 'status': 'NOW OPEN', 'address': '14 Brooklyn Avenue\\nValley Stream, NY 11581\\n516.206.1990'}\n",
      "{'area': 'LONG ISLAND', 'branch': 'Blink West Islip', 'status': 'NOW OPEN', 'address': '175 Sunrise Highway\\nWest Islip, NY 11795\\n631.392.2233'}\n",
      "{'area': 'WESTCHESTER', 'branch': 'Blink White Plains', 'status': 'NOW OPEN', 'address': '100 Main Street\\nWhite Plains, NY 10601\\n914.539.8800'}\n",
      "{'area': 'WESTCHESTER', 'branch': 'Blink Yonkers', 'status': 'NOW OPEN', 'address': '8000 Mall Walk\\nYonkers, NY 10704\\n914.375.3900'}\n",
      "{'area': 'NEW JERSEY', 'branch': 'Blink Clifton', 'status': 'NOW OPEN', 'address': '1006 Route 46\\nClifton, NJ 07013\\n973.855.3254'}\n",
      "{'area': 'NEW JERSEY', 'branch': 'Blink East Orange', 'status': 'NOW OPEN', 'address': '600 Central Avenue\\nEast Orange, NJ 07018\\n862.444.2190'}\n",
      "{'area': 'NEW JERSEY', 'branch': 'Blink Ironbound', 'status': 'NOW OPEN', 'address': '2-14 Ferry Street\\nNewark, NJ 07105\\n973.564.1710'}\n",
      "{'area': 'NEW JERSEY', 'branch': 'Blink Irvington', 'status': 'NOW OPEN', 'address': '440 Eastern Parkway\\nIrvington, NJ 07111\\n862.229.6744'}\n",
      "{'area': 'NEW JERSEY', 'branch': 'Blink Journal Square', 'status': 'NOW OPEN', 'address': '35 Journal Square\\nJersey City, NJ 07306\\n201.204.4360'}\n",
      "{'area': 'NEW JERSEY', 'branch': 'Blink Linden', 'status': 'NOW OPEN', 'address': '1701 West Edgar Road\\nLinden, NJ 07036\\n908.583.8650'}\n",
      "{'area': 'NEW JERSEY', 'branch': 'Blink Lodi', 'status': 'NOW OPEN', 'address': '4 Memorial Drive\\nLodi, NJ 07644\\n973.855.3250'}\n",
      "{'area': 'NEW JERSEY', 'branch': 'Blink Nutley', 'status': 'NOW OPEN', 'address': '364 Centre Street\\nNutley, NJ 07110\\n973.798.1490'}\n",
      "{'area': 'NEW JERSEY', 'branch': 'Blink Paramus', 'status': 'NOW OPEN', 'address': '151 Bergen Town Center\\nParamus, NJ 07652\\n201.845.5055'}\n",
      "{'area': 'NEW JERSEY', 'branch': 'Blink Parsippany', 'status': 'NOW OPEN', 'address': '3053 Route 46\\nParsippany, NJ 07054\\n973.532.6780'}\n",
      "{'area': 'NEW JERSEY', 'branch': 'Blink Passaic', 'status': 'NOW OPEN', 'address': '663 Main Avenue\\nPassaic, NJ 07055\\n973.358.8020'}\n",
      "{'area': 'NEW JERSEY', 'branch': 'Blink Perth Amboy', 'status': 'NOW OPEN', 'address': '133 New Brunswick Avenue\\nPerth Amboy, NJ 08861\\n732.243.8530'}\n",
      "{'area': 'NEW JERSEY', 'branch': 'Blink Plainfield', 'status': 'NOW OPEN', 'address': '235-255 East Front Street\\nPlainfield, NJ 07060\\n908.490.8130'}\n",
      "{'area': 'NEW JERSEY', 'branch': 'Blink South Orange', 'status': 'NOW OPEN', 'address': '451 Valley Street\\nSouth Orange, NJ 07079\\n973.564.1494'}\n",
      "{'area': 'NEW JERSEY', 'branch': 'Blink Union', 'status': 'NOW OPEN', 'address': '2700 Route 22\\nUnion, NJ 07083\\n973.241.1115'}\n",
      "{'area': 'NEW JERSEY', 'branch': 'Blink Willingboro', 'status': 'NOW OPEN', 'address': '498 Beverly Rancocas Road\\nWillingboro, NJ 08046\\n856.394.4081'}\n",
      "{'area': 'PHILADELPHIA', 'branch': 'Blink Academy Road', 'status': 'NOW OPEN', 'address': '8914 Frankford Avenue\\nPhiladelphia, PA 19136\\n215.383.2536'}\n",
      "{'area': 'PHILADELPHIA', 'branch': 'Blink South Philly', 'status': 'NOW OPEN', 'address': '330 W. Oregon Avenue\\nPhiladelphia, PA 19148\\n215.383.2540'}\n",
      "{'area': 'PHILADELPHIA', 'branch': 'Blink Wissinoming', 'status': 'NOW OPEN', 'address': '5597 Tulip Street, Building C 1-4\\nPhiladelphia, PA 19124\\n215.709.2010'}\n",
      "{'area': 'UPSTATE NEW YORK', 'branch': 'Blink Greece', 'status': 'NOW OPEN', 'address': '2833 W Ridge Rd\\nRochester, NY 14626\\n585.532.5650'}\n",
      "{'area': 'UPSTATE NEW YORK', 'branch': 'Blink Liverpool', 'status': 'NOW OPEN', 'address': '4979 W. Taft Road\\nLiverpool, NY 13088\\n315.928.3830'}\n",
      "{'area': 'UPSTATE NEW YORK', 'branch': 'Blink Onondaga', 'status': 'NOW OPEN', 'address': '4722 Onondaga Blvd\\nSyracuse, NY 13219\\n315.800.5195'}\n",
      "{'area': 'BOSTON', 'branch': 'Blink Beverly', 'status': 'NOW OPEN', 'address': '71 Dodge Street, Route 1A\\nBeverly, MA 01915\\n978.922.9100'}\n",
      "{'area': 'BOSTON', 'branch': 'Blink Medford', 'status': 'NOW OPEN', 'address': '465 Salem Street, Route 60\\nMedford, MA 02155\\n781.391.2100'}\n",
      "{'area': 'FLORIDA', 'branch': 'Blink Country Walk', 'status': 'COMING SOON', 'address': '12115 SW 152nd St\\nMiami, FL 33186'}\n",
      "{'area': 'FLORIDA', 'branch': 'Blink Jacksonville', 'status': 'NOW OPEN', 'address': '1102 Dunn Avenue #1\\nJacksonville, FL 32218\\n904.512.1175'}\n",
      "{'area': 'FLORIDA', 'branch': 'Blink Kendall', 'status': 'COMING SOON', 'address': '11561 N Kendall Dr\\nMiami, FL 33173'}\n",
      "{'area': 'FLORIDA', 'branch': 'Blink Miramar', 'status': 'NOW OPEN', 'address': '3352 South University Drive\\nMiramar, FL 33025\\n754.799.2002'}\n",
      "{'area': 'CALIFORNIA', 'branch': 'Blink Anaheim', 'status': 'NOW OPEN', 'address': '2251 West Ball Road\\nAnaheim, CA 92804\\n714.790.3555'}\n",
      "{'area': 'CALIFORNIA', 'branch': 'Blink Bellflower', 'status': 'TEMPORARILY CLOSED', 'address': '16121 Bellflower Blvd\\nBellflower, CA 90706\\n562.725.7133'}\n",
      "{'area': 'CALIFORNIA', 'branch': 'Blink Burbank', 'status': 'TEMPORARILY CLOSED', 'address': '1060 West Alameda Avenue\\nBurbank, CA 91506\\n818.686.5930'}\n",
      "{'area': 'CALIFORNIA', 'branch': 'Blink Gardena', 'status': 'TEMPORARILY CLOSED', 'address': '15519 Normandie Avenue\\nLos Angeles, CA 90247\\n424.292.8150'}\n",
      "{'area': 'CALIFORNIA', 'branch': 'Blink Huntington Park', 'status': 'TEMPORARILY CLOSED', 'address': '6714 Pacific Boulevard\\nHuntington Park, CA 90255\\n323.538.8705'}\n",
      "{'area': 'CALIFORNIA', 'branch': 'Blink Northridge', 'status': 'COMING SOON', 'address': '19500 Plummer St\\nNorthridge, CA 91324'}\n",
      "{'area': 'CALIFORNIA', 'branch': 'Blink Ontario', 'status': 'TEMPORARILY CLOSED', 'address': '130 West G Street\\nOntario, CA 91762\\n909.757.7894'}\n",
      "{'area': 'CALIFORNIA', 'branch': 'Blink Rialto', 'status': 'COMING SOON', 'address': '1205-1299 W Foothill Blvd\\nRialto, CA 92376\\n909.990.1266'}\n",
      "{'area': 'CALIFORNIA', 'branch': 'Blink Watts', 'status': 'TEMPORARILY CLOSED', 'address': '2450 East Century Blvd\\nLos Angeles, CA 90002\\n213.279.8879'}\n",
      "{'area': 'CHICAGO', 'branch': 'Blink Bridgeport', 'status': 'NOW OPEN', 'address': '3145 South Ashland Avenue\\nChicago, IL 60608\\n618.202.2124'}\n",
      "{'area': 'CHICAGO', 'branch': 'Blink Evanston', 'status': 'NOW OPEN', 'address': '1926 Dempster Street\\nEvanston, IL 60202\\n224.296.0010'}\n",
      "{'area': 'CHICAGO', 'branch': 'Blink Gage Park', 'status': 'COMING SOON', 'address': '5050 S Kedzie Ave\\nChicago, IL 60632'}\n",
      "{'area': 'CHICAGO', 'branch': 'Blink Kenwood', 'status': 'COMING SOON', 'address': '4646 S Drexel\\nChicago, IL 60653'}\n",
      "{'area': 'CHICAGO', 'branch': 'Blink Merrionette Park', 'status': 'NOW OPEN', 'address': '3243 West 115th Street\\nMerrionette Park, IL 60803\\n708.972.1407'}\n",
      "{'area': 'CHICAGO', 'branch': 'Blink Midway', 'status': 'NOW OPEN', 'address': '5160 South Pulaski Road\\nChicago, IL 60632\\n929.435.4764'}\n",
      "{'area': 'CHICAGO', 'branch': 'Blink North Riverside', 'status': 'COMING SOON', 'address': '7509 West Cermak Rd Suite A.\\nChicago, IL 60546\\n708.443.1001'}\n",
      "{'area': 'CHICAGO', 'branch': 'Blink Oak Lawn', 'status': 'NOW OPEN', 'address': '8749 S. Ridgeland Avenue\\nOak Lawn, IL 60453\\n224.401.1459'}\n",
      "{'area': 'MICHIGAN', 'branch': 'Blink Detroit PPC', 'status': 'COMING SOON', 'address': '640 Amsterdam Street\\nDetroit, MI 48202\\n313.217.7831'}\n",
      "{'area': 'MICHIGAN', 'branch': 'Blink Redford', 'status': 'NOW OPEN', 'address': '9395 Telegraph Road\\nRedford, MI 48239\\n313.217.7830'}\n",
      "{'area': 'MICHIGAN', 'branch': 'Blink Warren', 'status': 'NOW OPEN', 'address': '26475 Hoover Road\\nWarren, MI 48089\\n586.381.7058'}\n",
      "{'area': 'VIRGINIA', 'branch': 'Blink Virginia Beach', 'status': 'NOW OPEN', 'address': '4239 Holland Road\\nVirginia Beach, VA 23452\\n757.432.3584'}\n",
      "{'area': 'HOUSTON', 'branch': 'Blink Hobby', 'status': 'NOW OPEN', 'address': '8201 Broadway Street\\nHouston, TX 77061\\n346.285.7862'}\n",
      "{'area': 'HOUSTON', 'branch': 'Blink Missouri City', 'status': 'COMING SOON', 'address': '2192 Texas Parkway\\nMissouri City, TX 77489'}\n",
      "{'area': 'HOUSTON', 'branch': 'Blink Northline', 'status': 'COMING SOON', 'address': '4704 Airline Drive\\nHouston, TX 77022\\n281.936.0098'}\n",
      "{'area': 'HOUSTON', 'branch': 'Blink Spring Branch', 'status': 'NOW OPEN', 'address': '7840 Long Point Rd\\nHouston, TX 77055\\n346.355.9371'}\n",
      "{'area': 'HOUSTON', 'branch': 'Blink Westchase', 'status': 'NOW OPEN', 'address': '11145 Westheimer Road\\nHouston, TX 77042\\n346.355.9375'}\n",
      "{'area': 'DALLAS/FORT WORTH', 'branch': 'Blink Beach Street', 'status': 'NOW OPEN', 'address': '7410 N Beach Street\\nFort Worth, TX 76137\\n817.428.2030'}\n",
      "{'area': 'DALLAS/FORT WORTH', 'branch': 'Blink Bedford', 'status': 'NOW OPEN', 'address': '615 Harwood Road\\nBedford, TX 76021\\n817.391.8083'}\n",
      "{'area': 'DALLAS/FORT WORTH', 'branch': 'Blink Keller', 'status': 'NOW OPEN', 'address': '3529 Heritage Trace Pkwy\\nFort Worth, TX 76248\\n682.647.5114'}\n",
      "{'area': 'DALLAS/FORT WORTH', 'branch': 'Blink Lake Highlands', 'status': 'COMING SOON', 'address': '6515 Abrams Road\\nDallas, TX 75231'}\n",
      "{'area': 'DALLAS/FORT WORTH', 'branch': 'Blink North Richland Hills', 'status': 'NOW OPEN', 'address': '7901 Mid Cities Blvd\\nNorth Richland Hills, TX 76180\\n817.893.6890'}\n"
     ]
    }
   ],
   "source": [
    "for gym in gyms:\n",
    "    print(gym)"
   ]
  },
  {
   "cell_type": "code",
   "execution_count": null,
   "metadata": {},
   "outputs": [],
   "source": []
  }
 ],
 "metadata": {
  "kernelspec": {
   "display_name": "Python 3",
   "language": "python",
   "name": "python3"
  },
  "language_info": {
   "codemirror_mode": {
    "name": "ipython",
    "version": 3
   },
   "file_extension": ".py",
   "mimetype": "text/x-python",
   "name": "python",
   "nbconvert_exporter": "python",
   "pygments_lexer": "ipython3",
   "version": "3.8.0"
  }
 },
 "nbformat": 4,
 "nbformat_minor": 4
}
